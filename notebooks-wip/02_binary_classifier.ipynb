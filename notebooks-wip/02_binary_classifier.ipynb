{
 "cells": [
  {
   "cell_type": "markdown",
   "id": "8c988283",
   "metadata": {},
   "source": [
    "# Binary classifier: detects attacks (1) vs benign activity (0), trained on all datasets"
   ]
  },
  {
   "cell_type": "code",
   "execution_count": 1,
   "id": "b1343919-d2f9-415c-adb4-44196f1ac870",
   "metadata": {},
   "outputs": [],
   "source": [
    "import sys\n",
    "import os\n",
    "sys.path.append(os.path.abspath(\"..\"))"
   ]
  },
  {
   "cell_type": "code",
   "execution_count": 2,
   "id": "b508ac72-673f-475a-8694-6adfa1eb0f83",
   "metadata": {},
   "outputs": [],
   "source": [
    "%load_ext autoreload\n",
    "%autoreload 2"
   ]
  },
  {
   "cell_type": "code",
   "execution_count": 5,
   "id": "600c7904",
   "metadata": {},
   "outputs": [],
   "source": [
    "from utils.model_utils import split_data, train_model, evaluate_model, save_model\n",
    "from utils import data_preparation"
   ]
  },
  {
   "cell_type": "code",
   "execution_count": 7,
   "id": "8435bcef-707c-4642-8647-a26d74f721bd",
   "metadata": {},
   "outputs": [
    {
     "name": "stdout",
     "output_type": "stream",
     "text": [
      "Dataset loaded from: ../datasets/cic-ids2017_allattacks_binary_clean.csv — shape: (2574151, 9)\n"
     ]
    }
   ],
   "source": [
    "data = data_preparation.load_dataset('../datasets/cic-ids2017_allattacks_binary_clean.csv')"
   ]
  },
  {
   "cell_type": "code",
   "execution_count": 8,
   "id": "69d79607-3970-473a-893d-9e27ff236f6f",
   "metadata": {},
   "outputs": [
    {
     "data": {
      "text/html": [
       "<div>\n",
       "<style scoped>\n",
       "    .dataframe tbody tr th:only-of-type {\n",
       "        vertical-align: middle;\n",
       "    }\n",
       "\n",
       "    .dataframe tbody tr th {\n",
       "        vertical-align: top;\n",
       "    }\n",
       "\n",
       "    .dataframe thead th {\n",
       "        text-align: right;\n",
       "    }\n",
       "</style>\n",
       "<table border=\"1\" class=\"dataframe\">\n",
       "  <thead>\n",
       "    <tr style=\"text-align: right;\">\n",
       "      <th></th>\n",
       "      <th>ack_flag</th>\n",
       "      <th>dst_port</th>\n",
       "      <th>fin_flag</th>\n",
       "      <th>flow_duration</th>\n",
       "      <th>psh_flag</th>\n",
       "      <th>syn_flag</th>\n",
       "      <th>bwd_pkts</th>\n",
       "      <th>fwd_pkts</th>\n",
       "      <th>label</th>\n",
       "    </tr>\n",
       "  </thead>\n",
       "  <tbody>\n",
       "    <tr>\n",
       "      <th>0</th>\n",
       "      <td>1</td>\n",
       "      <td>54865</td>\n",
       "      <td>0</td>\n",
       "      <td>3</td>\n",
       "      <td>0</td>\n",
       "      <td>0</td>\n",
       "      <td>0</td>\n",
       "      <td>2</td>\n",
       "      <td>0</td>\n",
       "    </tr>\n",
       "    <tr>\n",
       "      <th>1</th>\n",
       "      <td>1</td>\n",
       "      <td>55054</td>\n",
       "      <td>0</td>\n",
       "      <td>109</td>\n",
       "      <td>0</td>\n",
       "      <td>0</td>\n",
       "      <td>1</td>\n",
       "      <td>1</td>\n",
       "      <td>0</td>\n",
       "    </tr>\n",
       "    <tr>\n",
       "      <th>2</th>\n",
       "      <td>1</td>\n",
       "      <td>55055</td>\n",
       "      <td>0</td>\n",
       "      <td>52</td>\n",
       "      <td>0</td>\n",
       "      <td>0</td>\n",
       "      <td>1</td>\n",
       "      <td>1</td>\n",
       "      <td>0</td>\n",
       "    </tr>\n",
       "    <tr>\n",
       "      <th>3</th>\n",
       "      <td>1</td>\n",
       "      <td>46236</td>\n",
       "      <td>0</td>\n",
       "      <td>34</td>\n",
       "      <td>0</td>\n",
       "      <td>0</td>\n",
       "      <td>1</td>\n",
       "      <td>1</td>\n",
       "      <td>0</td>\n",
       "    </tr>\n",
       "    <tr>\n",
       "      <th>4</th>\n",
       "      <td>1</td>\n",
       "      <td>54863</td>\n",
       "      <td>0</td>\n",
       "      <td>3</td>\n",
       "      <td>0</td>\n",
       "      <td>0</td>\n",
       "      <td>0</td>\n",
       "      <td>2</td>\n",
       "      <td>0</td>\n",
       "    </tr>\n",
       "  </tbody>\n",
       "</table>\n",
       "</div>"
      ],
      "text/plain": [
       "   ack_flag  dst_port  fin_flag  flow_duration  psh_flag  syn_flag  bwd_pkts  \\\n",
       "0         1     54865         0              3         0         0         0   \n",
       "1         1     55054         0            109         0         0         1   \n",
       "2         1     55055         0             52         0         0         1   \n",
       "3         1     46236         0             34         0         0         1   \n",
       "4         1     54863         0              3         0         0         0   \n",
       "\n",
       "   fwd_pkts  label  \n",
       "0         2      0  \n",
       "1         1      0  \n",
       "2         1      0  \n",
       "3         1      0  \n",
       "4         2      0  "
      ]
     },
     "execution_count": 8,
     "metadata": {},
     "output_type": "execute_result"
    }
   ],
   "source": [
    "data.head()"
   ]
  },
  {
   "cell_type": "code",
   "execution_count": 9,
   "id": "b19b1c80-719f-40b0-8924-9c7d6ab643c2",
   "metadata": {},
   "outputs": [],
   "source": [
    "X_train, X_test, y_train, y_test = split_data(data, 'label')"
   ]
  },
  {
   "cell_type": "markdown",
   "id": "209279a9-f717-4170-9b32-296bd94cd55d",
   "metadata": {},
   "source": [
    "# RANDOM FOREST"
   ]
  },
  {
   "cell_type": "code",
   "execution_count": 20,
   "id": "9adb3707",
   "metadata": {},
   "outputs": [],
   "source": [
    "rf_model = train_model(X_train, y_train, model_type='rf')"
   ]
  },
  {
   "cell_type": "code",
   "execution_count": 21,
   "id": "ef32a189",
   "metadata": {},
   "outputs": [
    {
     "name": "stdout",
     "output_type": "stream",
     "text": [
      "=== Classification Report ===\n",
      "              precision    recall  f1-score   support\n",
      "\n",
      "           0       0.99      0.99      0.99    644482\n",
      "           1       0.97      0.97      0.97    127764\n",
      "\n",
      "    accuracy                           0.99    772246\n",
      "   macro avg       0.98      0.98      0.98    772246\n",
      "weighted avg       0.99      0.99      0.99    772246\n",
      "\n",
      "=== Confusion Matrix ===\n",
      "[[641094   3388]\n",
      " [  3369 124395]]\n",
      "ROC AUC: 0.9954\n"
     ]
    }
   ],
   "source": [
    "evaluate_model(rf_model, X_test, y_test)"
   ]
  },
  {
   "cell_type": "code",
   "execution_count": 24,
   "id": "3df1567f-3ea4-47ff-8b87-c95dee5a9c84",
   "metadata": {},
   "outputs": [
    {
     "name": "stdout",
     "output_type": "stream",
     "text": [
      "Model saved to: models/rf_sharedcols_v1.pkl\n"
     ]
    },
    {
     "data": {
      "text/plain": [
       "'models/rf_sharedcols_v1.pkl'"
      ]
     },
     "execution_count": 24,
     "metadata": {},
     "output_type": "execute_result"
    }
   ],
   "source": [
    "save_model(rf_model, name=\"rf_sharedcols_v1.pkl\")"
   ]
  },
  {
   "cell_type": "markdown",
   "id": "10ac76c9-3198-4ee9-a5d2-a86568d56057",
   "metadata": {},
   "source": [
    "# XGBoost"
   ]
  },
  {
   "cell_type": "code",
   "execution_count": 7,
   "id": "52480eeb-6289-4738-a610-3a53f55ca1f4",
   "metadata": {},
   "outputs": [
    {
     "name": "stderr",
     "output_type": "stream",
     "text": [
      "C:\\Users\\kkita\\anaconda3\\envs\\cybersecurity-venv\\Lib\\site-packages\\xgboost\\training.py:183: UserWarning: [21:58:16] WARNING: D:\\bld\\xgboost-split_1748292851775\\work\\src\\learner.cc:738: \n",
      "Parameters: { \"use_label_encoder\" } are not used.\n",
      "\n",
      "  bst.update(dtrain, iteration=i, fobj=obj)\n"
     ]
    }
   ],
   "source": [
    "xgb_model = train_model(X_train, y_train, model_type='xgb')"
   ]
  },
  {
   "cell_type": "code",
   "execution_count": 8,
   "id": "b5aa8b1b-0f16-45e2-aab9-ebbb194c463d",
   "metadata": {},
   "outputs": [
    {
     "name": "stdout",
     "output_type": "stream",
     "text": [
      "=== Classification Report ===\n",
      "              precision    recall  f1-score   support\n",
      "\n",
      "           0       0.99      1.00      1.00    644482\n",
      "           1       0.98      0.97      0.98    127764\n",
      "\n",
      "    accuracy                           0.99    772246\n",
      "   macro avg       0.99      0.98      0.99    772246\n",
      "weighted avg       0.99      0.99      0.99    772246\n",
      "\n",
      "=== Confusion Matrix ===\n",
      "[[642409   2073]\n",
      " [  3510 124254]]\n",
      "ROC AUC: 0.9994\n"
     ]
    }
   ],
   "source": [
    "evaluate_model(xgb_model, X_test, y_test)"
   ]
  },
  {
   "cell_type": "code",
   "execution_count": 9,
   "id": "3cab3663-f0eb-45ad-b96d-300aafff8ec1",
   "metadata": {},
   "outputs": [
    {
     "name": "stdout",
     "output_type": "stream",
     "text": [
      "Model saved to: C:\\Users\\kkita\\Projects\\cyberthreat-ml-analysis\\utils\\..\\models\\xgb_sharedcols_v1.pkl\n"
     ]
    },
    {
     "data": {
      "text/plain": [
       "'C:\\\\Users\\\\kkita\\\\Projects\\\\cyberthreat-ml-analysis\\\\utils\\\\..\\\\models\\\\xgb_sharedcols_v1.pkl'"
      ]
     },
     "execution_count": 9,
     "metadata": {},
     "output_type": "execute_result"
    }
   ],
   "source": [
    "save_model(xgb_model, name=\"xgb_sharedcols_v1.pkl\")"
   ]
  },
  {
   "cell_type": "markdown",
   "id": "12318935-9c01-4dd7-b1f7-892ac5254985",
   "metadata": {},
   "source": [
    "# Logistic regression "
   ]
  },
  {
   "cell_type": "code",
   "execution_count": 11,
   "id": "26341756-3021-4c7e-93c9-f550071f5a54",
   "metadata": {},
   "outputs": [],
   "source": [
    "lr_model = train_model(X_train, y_train, model_type='lr')"
   ]
  },
  {
   "cell_type": "code",
   "execution_count": 12,
   "id": "3d3b8dc6-e604-43a9-9306-0b3e714afa85",
   "metadata": {},
   "outputs": [
    {
     "name": "stdout",
     "output_type": "stream",
     "text": [
      "=== Classification Report ===\n",
      "              precision    recall  f1-score   support\n",
      "\n",
      "           0       0.89      0.98      0.93    644482\n",
      "           1       0.77      0.40      0.52    127764\n",
      "\n",
      "    accuracy                           0.88    772246\n",
      "   macro avg       0.83      0.69      0.73    772246\n",
      "weighted avg       0.87      0.88      0.86    772246\n",
      "\n",
      "=== Confusion Matrix ===\n",
      "[[628971  15511]\n",
      " [ 76970  50794]]\n",
      "ROC AUC: 0.7338\n"
     ]
    }
   ],
   "source": [
    "evaluate_model(lr_model, X_test, y_test)"
   ]
  },
  {
   "cell_type": "code",
   "execution_count": 14,
   "id": "f77e3105-fd54-4971-a6cd-f5618242e2d2",
   "metadata": {},
   "outputs": [
    {
     "name": "stdout",
     "output_type": "stream",
     "text": [
      "Model saved to: C:\\Users\\kkita\\Projects\\cyberthreat-ml-analysis\\utils\\..\\models\\lr_sharedcols_v1.pkl\n"
     ]
    },
    {
     "data": {
      "text/plain": [
       "'C:\\\\Users\\\\kkita\\\\Projects\\\\cyberthreat-ml-analysis\\\\utils\\\\..\\\\models\\\\lr_sharedcols_v1.pkl'"
      ]
     },
     "execution_count": 14,
     "metadata": {},
     "output_type": "execute_result"
    }
   ],
   "source": [
    "save_model(lr_model, name=\"lr_sharedcols_v1.pkl\")"
   ]
  },
  {
   "cell_type": "markdown",
   "id": "d9fe8331-5c79-4eee-829f-e7a6e19d1c11",
   "metadata": {},
   "source": [
    "# Support Vector Machine - WIP"
   ]
  },
  {
   "cell_type": "code",
   "execution_count": null,
   "id": "0a5cadc1-614e-4a23-9a4d-1aa3b82dd961",
   "metadata": {},
   "outputs": [],
   "source": [
    "svm_model = train_model(X_train, y_train, model_type='svm')"
   ]
  },
  {
   "cell_type": "code",
   "execution_count": null,
   "id": "ebbd6e8a-4df5-4a29-8979-3a29057be833",
   "metadata": {},
   "outputs": [],
   "source": [
    "evaluate_model(svm_model, X_test, y_test)"
   ]
  },
  {
   "cell_type": "code",
   "execution_count": null,
   "id": "14388ffc-7235-46e6-b9c7-ce9a57a6ab61",
   "metadata": {},
   "outputs": [],
   "source": [
    "save_model(svm_model, name=\"svm_sharedcols_v1.pkl\")"
   ]
  },
  {
   "cell_type": "code",
   "execution_count": null,
   "id": "08de560c-24d3-4622-add5-b0826de65a81",
   "metadata": {},
   "outputs": [],
   "source": [
    "print()"
   ]
  },
  {
   "cell_type": "code",
   "execution_count": null,
   "id": "4cfc5c67-3609-456b-98de-a46892650550",
   "metadata": {},
   "outputs": [],
   "source": []
  }
 ],
 "metadata": {
  "kernelspec": {
   "display_name": "Python 3 (ipykernel)",
   "language": "python",
   "name": "python3"
  },
  "language_info": {
   "codemirror_mode": {
    "name": "ipython",
    "version": 3
   },
   "file_extension": ".py",
   "mimetype": "text/x-python",
   "name": "python",
   "nbconvert_exporter": "python",
   "pygments_lexer": "ipython3",
   "version": "3.9.18"
  }
 },
 "nbformat": 4,
 "nbformat_minor": 5
}
